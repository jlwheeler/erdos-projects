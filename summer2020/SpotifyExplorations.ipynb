{
 "cells": [
  {
   "cell_type": "markdown",
   "metadata": {},
   "source": [
    "### This notebook is a playground for digging into the spotify metadata and trying NLP and emoji packages. "
   ]
  },
  {
   "cell_type": "code",
   "execution_count": 6,
   "metadata": {},
   "outputs": [],
   "source": [
    "import pandas as pd\n",
    "import numpy as np"
   ]
  },
  {
   "cell_type": "code",
   "execution_count": 7,
   "metadata": {},
   "outputs": [
    {
     "name": "stdout",
     "output_type": "stream",
     "text": [
      "Requirement already up-to-date: emoji in /opt/anaconda3/lib/python3.7/site-packages (0.5.4)\n",
      "Note: you may need to restart the kernel to use updated packages.\n"
     ]
    }
   ],
   "source": [
    " pip install emoji --upgrade"
   ]
  },
  {
   "cell_type": "code",
   "execution_count": 46,
   "metadata": {},
   "outputs": [],
   "source": [
    "import emoji\n",
    "from emoji import UNICODE_EMOJI"
   ]
  },
  {
   "cell_type": "code",
   "execution_count": 9,
   "metadata": {},
   "outputs": [
    {
     "name": "stderr",
     "output_type": "stream",
     "text": [
      "[nltk_data] Downloading package stopwords to\n",
      "[nltk_data]     /usr/local/share/nltk_data...\n",
      "[nltk_data]   Package stopwords is already up-to-date!\n",
      "[nltk_data] Downloading package punkt to /usr/local/share/nltk_data...\n",
      "[nltk_data]   Package punkt is already up-to-date!\n"
     ]
    },
    {
     "data": {
      "text/plain": [
       "True"
      ]
     },
     "execution_count": 9,
     "metadata": {},
     "output_type": "execute_result"
    }
   ],
   "source": [
    "import nltk\n",
    "\n",
    "from nltk.corpus import stopwords\n",
    "nltk.download('stopwords')\n",
    "\n",
    "from nltk.tokenize import word_tokenize\n",
    "\n",
    "nltk.download('punkt')"
   ]
  },
  {
   "cell_type": "code",
   "execution_count": 10,
   "metadata": {},
   "outputs": [
    {
     "data": {
      "text/plain": [
       "['i',\n",
       " 'me',\n",
       " 'my',\n",
       " 'myself',\n",
       " 'we',\n",
       " 'our',\n",
       " 'ours',\n",
       " 'ourselves',\n",
       " 'you',\n",
       " \"you're\",\n",
       " \"you've\",\n",
       " \"you'll\",\n",
       " \"you'd\",\n",
       " 'your',\n",
       " 'yours',\n",
       " 'yourself',\n",
       " 'yourselves',\n",
       " 'he',\n",
       " 'him',\n",
       " 'his',\n",
       " 'himself',\n",
       " 'she',\n",
       " \"she's\",\n",
       " 'her',\n",
       " 'hers',\n",
       " 'herself',\n",
       " 'it',\n",
       " \"it's\",\n",
       " 'its',\n",
       " 'itself',\n",
       " 'they',\n",
       " 'them',\n",
       " 'their',\n",
       " 'theirs',\n",
       " 'themselves',\n",
       " 'what',\n",
       " 'which',\n",
       " 'who',\n",
       " 'whom',\n",
       " 'this',\n",
       " 'that',\n",
       " \"that'll\",\n",
       " 'these',\n",
       " 'those',\n",
       " 'am',\n",
       " 'is',\n",
       " 'are',\n",
       " 'was',\n",
       " 'were',\n",
       " 'be',\n",
       " 'been',\n",
       " 'being',\n",
       " 'have',\n",
       " 'has',\n",
       " 'had',\n",
       " 'having',\n",
       " 'do',\n",
       " 'does',\n",
       " 'did',\n",
       " 'doing',\n",
       " 'a',\n",
       " 'an',\n",
       " 'the',\n",
       " 'and',\n",
       " 'but',\n",
       " 'if',\n",
       " 'or',\n",
       " 'because',\n",
       " 'as',\n",
       " 'until',\n",
       " 'while',\n",
       " 'of',\n",
       " 'at',\n",
       " 'by',\n",
       " 'for',\n",
       " 'with',\n",
       " 'about',\n",
       " 'against',\n",
       " 'between',\n",
       " 'into',\n",
       " 'through',\n",
       " 'during',\n",
       " 'before',\n",
       " 'after',\n",
       " 'above',\n",
       " 'below',\n",
       " 'to',\n",
       " 'from',\n",
       " 'up',\n",
       " 'down',\n",
       " 'in',\n",
       " 'out',\n",
       " 'on',\n",
       " 'off',\n",
       " 'over',\n",
       " 'under',\n",
       " 'again',\n",
       " 'further',\n",
       " 'then',\n",
       " 'once',\n",
       " 'here',\n",
       " 'there',\n",
       " 'when',\n",
       " 'where',\n",
       " 'why',\n",
       " 'how',\n",
       " 'all',\n",
       " 'any',\n",
       " 'both',\n",
       " 'each',\n",
       " 'few',\n",
       " 'more',\n",
       " 'most',\n",
       " 'other',\n",
       " 'some',\n",
       " 'such',\n",
       " 'no',\n",
       " 'nor',\n",
       " 'not',\n",
       " 'only',\n",
       " 'own',\n",
       " 'same',\n",
       " 'so',\n",
       " 'than',\n",
       " 'too',\n",
       " 'very',\n",
       " 's',\n",
       " 't',\n",
       " 'can',\n",
       " 'will',\n",
       " 'just',\n",
       " 'don',\n",
       " \"don't\",\n",
       " 'should',\n",
       " \"should've\",\n",
       " 'now',\n",
       " 'd',\n",
       " 'll',\n",
       " 'm',\n",
       " 'o',\n",
       " 're',\n",
       " 've',\n",
       " 'y',\n",
       " 'ain',\n",
       " 'aren',\n",
       " \"aren't\",\n",
       " 'couldn',\n",
       " \"couldn't\",\n",
       " 'didn',\n",
       " \"didn't\",\n",
       " 'doesn',\n",
       " \"doesn't\",\n",
       " 'hadn',\n",
       " \"hadn't\",\n",
       " 'hasn',\n",
       " \"hasn't\",\n",
       " 'haven',\n",
       " \"haven't\",\n",
       " 'isn',\n",
       " \"isn't\",\n",
       " 'ma',\n",
       " 'mightn',\n",
       " \"mightn't\",\n",
       " 'mustn',\n",
       " \"mustn't\",\n",
       " 'needn',\n",
       " \"needn't\",\n",
       " 'shan',\n",
       " \"shan't\",\n",
       " 'shouldn',\n",
       " \"shouldn't\",\n",
       " 'wasn',\n",
       " \"wasn't\",\n",
       " 'weren',\n",
       " \"weren't\",\n",
       " 'won',\n",
       " \"won't\",\n",
       " 'wouldn',\n",
       " \"wouldn't\"]"
      ]
     },
     "execution_count": 10,
     "metadata": {},
     "output_type": "execute_result"
    }
   ],
   "source": [
    "# Store the stopwords in a list and take a look at them\n",
    "stop_words = stopwords.words('english')\n",
    "stop_words\n",
    "#Notice they are all lowercase."
   ]
  },
  {
   "cell_type": "code",
   "execution_count": 11,
   "metadata": {},
   "outputs": [],
   "source": [
    "#Read in the original metadata file\n",
    "spotify_meta = pd.read_csv(\"../spotify-podcasts-2020/metadata.tsv\", delimiter='\\t')"
   ]
  },
  {
   "cell_type": "code",
   "execution_count": 12,
   "metadata": {},
   "outputs": [
    {
     "data": {
      "text/html": [
       "<div>\n",
       "<style scoped>\n",
       "    .dataframe tbody tr th:only-of-type {\n",
       "        vertical-align: middle;\n",
       "    }\n",
       "\n",
       "    .dataframe tbody tr th {\n",
       "        vertical-align: top;\n",
       "    }\n",
       "\n",
       "    .dataframe thead th {\n",
       "        text-align: right;\n",
       "    }\n",
       "</style>\n",
       "<table border=\"1\" class=\"dataframe\">\n",
       "  <thead>\n",
       "    <tr style=\"text-align: right;\">\n",
       "      <th></th>\n",
       "      <th>show_uri</th>\n",
       "      <th>show_name</th>\n",
       "      <th>show_description</th>\n",
       "      <th>publisher</th>\n",
       "      <th>language</th>\n",
       "      <th>rss_link</th>\n",
       "      <th>episode_uri</th>\n",
       "      <th>episode_name</th>\n",
       "      <th>episode_description</th>\n",
       "      <th>duration</th>\n",
       "      <th>show_filename_prefix</th>\n",
       "      <th>episode_filename_prefix</th>\n",
       "    </tr>\n",
       "  </thead>\n",
       "  <tbody>\n",
       "    <tr>\n",
       "      <th>0</th>\n",
       "      <td>spotify:show:2NYtxEZyYelR6RMKmjfPLB</td>\n",
       "      <td>Kream in your Koffee</td>\n",
       "      <td>A 20-something blunt female takes on the world...</td>\n",
       "      <td>Katie Houle</td>\n",
       "      <td>['en']</td>\n",
       "      <td>https://anchor.fm/s/11b84b68/podcast/rss</td>\n",
       "      <td>spotify:episode:000A9sRBYdVh66csG2qEdj</td>\n",
       "      <td>1: It’s Christmas Time!</td>\n",
       "      <td>On the first ever episode of Kream in your Kof...</td>\n",
       "      <td>12.700133</td>\n",
       "      <td>show_2NYtxEZyYelR6RMKmjfPLB</td>\n",
       "      <td>000A9sRBYdVh66csG2qEdj</td>\n",
       "    </tr>\n",
       "    <tr>\n",
       "      <th>1</th>\n",
       "      <td>spotify:show:15iWCbU7QoO23EndPEO6aN</td>\n",
       "      <td>Morning Cup Of Murder</td>\n",
       "      <td>Ever wonder what murder took place on today in...</td>\n",
       "      <td>Morning Cup Of Murder</td>\n",
       "      <td>['en']</td>\n",
       "      <td>https://anchor.fm/s/b07181c/podcast/rss</td>\n",
       "      <td>spotify:episode:000HP8n3hNIfglT2wSI2cA</td>\n",
       "      <td>The Goleta Postal Facility shootings- January ...</td>\n",
       "      <td>See something, say something. It’s a mantra ma...</td>\n",
       "      <td>6.019383</td>\n",
       "      <td>show_15iWCbU7QoO23EndPEO6aN</td>\n",
       "      <td>000HP8n3hNIfglT2wSI2cA</td>\n",
       "    </tr>\n",
       "  </tbody>\n",
       "</table>\n",
       "</div>"
      ],
      "text/plain": [
       "                              show_uri              show_name  \\\n",
       "0  spotify:show:2NYtxEZyYelR6RMKmjfPLB   Kream in your Koffee   \n",
       "1  spotify:show:15iWCbU7QoO23EndPEO6aN  Morning Cup Of Murder   \n",
       "\n",
       "                                    show_description              publisher  \\\n",
       "0  A 20-something blunt female takes on the world...            Katie Houle   \n",
       "1  Ever wonder what murder took place on today in...  Morning Cup Of Murder   \n",
       "\n",
       "  language                                  rss_link  \\\n",
       "0   ['en']  https://anchor.fm/s/11b84b68/podcast/rss   \n",
       "1   ['en']   https://anchor.fm/s/b07181c/podcast/rss   \n",
       "\n",
       "                              episode_uri  \\\n",
       "0  spotify:episode:000A9sRBYdVh66csG2qEdj   \n",
       "1  spotify:episode:000HP8n3hNIfglT2wSI2cA   \n",
       "\n",
       "                                        episode_name  \\\n",
       "0                            1: It’s Christmas Time!   \n",
       "1  The Goleta Postal Facility shootings- January ...   \n",
       "\n",
       "                                 episode_description   duration  \\\n",
       "0  On the first ever episode of Kream in your Kof...  12.700133   \n",
       "1  See something, say something. It’s a mantra ma...   6.019383   \n",
       "\n",
       "          show_filename_prefix episode_filename_prefix  \n",
       "0  show_2NYtxEZyYelR6RMKmjfPLB  000A9sRBYdVh66csG2qEdj  \n",
       "1  show_15iWCbU7QoO23EndPEO6aN  000HP8n3hNIfglT2wSI2cA  "
      ]
     },
     "execution_count": 12,
     "metadata": {},
     "output_type": "execute_result"
    }
   ],
   "source": [
    "spotify_meta.head(2)"
   ]
  },
  {
   "cell_type": "code",
   "execution_count": 13,
   "metadata": {},
   "outputs": [
    {
     "data": {
      "text/plain": [
       "105360"
      ]
     },
     "execution_count": 13,
     "metadata": {},
     "output_type": "execute_result"
    }
   ],
   "source": [
    "len(spotify_meta)"
   ]
  },
  {
   "cell_type": "code",
   "execution_count": 44,
   "metadata": {},
   "outputs": [
    {
     "data": {
      "text/plain": [
       "33.8457152698685"
      ]
     },
     "execution_count": 44,
     "metadata": {},
     "output_type": "execute_result"
    }
   ],
   "source": [
    "#Mean duration of podcasts in minutes\n",
    "spotify_meta.duration.mean()"
   ]
  },
  {
   "cell_type": "code",
   "execution_count": 16,
   "metadata": {},
   "outputs": [
    {
     "name": "stdout",
     "output_type": "stream",
     "text": [
      "Your favorite podcast for everything @Chiefs! Providing #ChiefsKingdom with up to the minute news & insight all day, everyday with @KC_Winn & @grant_morse7🎙\n",
      "\n",
      "['Your', 'favorite', 'podcast', 'for', 'everything', '@Chiefs!', 'Providing', '#ChiefsKingdom', 'with', 'up', 'to', 'the', 'minute', 'news', '&', 'insight', 'all', 'day,', 'everyday', 'with', '@KC_Winn', '&', '@grant_morse7🎙']\n"
     ]
    }
   ],
   "source": [
    "#Check out a show desciption that has an emoji\n",
    "print(spotify_meta.iloc[3]['show_description'])\n",
    "print()\n",
    "print(spotify_meta.iloc[3]['show_description'].split())"
   ]
  },
  {
   "cell_type": "code",
   "execution_count": 17,
   "metadata": {},
   "outputs": [
    {
     "name": "stdout",
     "output_type": "stream",
     "text": [
      "['Your', 'favorite', 'podcast', 'for', 'everything', '@', 'Chiefs', '!', 'Providing', '#', 'ChiefsKingdom', 'with', 'up', 'to', 'the', 'minute', 'news', '&', 'insight', 'all', 'day', ',', 'everyday', 'with', '@', 'KC_Winn', '&', '@', 'grant_morse7🎙']\n"
     ]
    }
   ],
   "source": [
    "#Notice that tokenize splits and takes out punctuation, except for emoji. \n",
    "desc_tokenize = word_tokenize(spotify_meta.iloc[3]['show_description'])\n",
    "print(desc_tokenize)"
   ]
  },
  {
   "cell_type": "code",
   "execution_count": 20,
   "metadata": {},
   "outputs": [
    {
     "data": {
      "text/plain": [
       "'Your favorite podcast for everything @Chiefs! Providing #ChiefsKingdom with up to the minute news & insight all day, everyday with @KC_Winn & @grant_morse7:studio_microphone:'"
      ]
     },
     "execution_count": 20,
     "metadata": {},
     "output_type": "execute_result"
    }
   ],
   "source": [
    "#The demojize method replaces the unicode emoji with its alias. \n",
    "emoji.demojize(spotify_meta.iloc[3]['show_description'])"
   ]
  },
  {
   "cell_type": "code",
   "execution_count": 22,
   "metadata": {},
   "outputs": [
    {
     "name": "stdout",
     "output_type": "stream",
     "text": [
      "['Your', 'favorite', 'podcast', 'for', 'everything', '@', 'Chiefs', '!', 'Providing', '#', 'ChiefsKingdom', 'with', 'up', 'to', 'the', 'minute', 'news', '&', 'insight', 'all', 'day', ',', 'everyday', 'with', '@', 'KC_Winn', '&', '@', 'grant_morse7', ':', 'studio_microphone', ':']\n"
     ]
    }
   ],
   "source": [
    "#Now tokenizing separates the emoji.\n",
    "print(word_tokenize(emoji.demojize(spotify_meta.iloc[3]['show_description'])))"
   ]
  },
  {
   "cell_type": "code",
   "execution_count": 26,
   "metadata": {},
   "outputs": [],
   "source": [
    "##Try the text_to_word_list function"
   ]
  },
  {
   "cell_type": "code",
   "execution_count": 27,
   "metadata": {},
   "outputs": [],
   "source": [
    "import sys\n",
    "sys.path.append('/Users/jessicawheeler/Documents/Code/Code-Bootcamp-2020/ProjectGroup/TheEssentials')\n",
    "from functions.text_to_word_list import text_to_word_list"
   ]
  },
  {
   "cell_type": "code",
   "execution_count": 35,
   "metadata": {},
   "outputs": [
    {
     "data": {
      "text/plain": [
       "['favorite',\n",
       " 'podcast',\n",
       " 'everything',\n",
       " 'chief',\n",
       " 'providing',\n",
       " 'chiefskingdom',\n",
       " 'minute',\n",
       " 'news',\n",
       " 'insight',\n",
       " 'day',\n",
       " 'everyday',\n",
       " 'kc_winn',\n",
       " 'grant_morse7',\n",
       " 'studio_microphone']"
      ]
     },
     "execution_count": 35,
     "metadata": {},
     "output_type": "execute_result"
    }
   ],
   "source": [
    "text_to_word_list(spotify_meta.iloc[3]['show_description'])"
   ]
  },
  {
   "cell_type": "code",
   "execution_count": null,
   "metadata": {},
   "outputs": [],
   "source": []
  },
  {
   "cell_type": "code",
   "execution_count": 36,
   "metadata": {},
   "outputs": [],
   "source": [
    "# Define the list of extra stuff to remove\n",
    "punctuation = ['.',',',';',':',\"'s\",' ',\"' '\",\"'\",\"``\",\"''\",'(',')',\"'re\",'!','?','_','...','$','[',']']\n",
    "\n",
    "# Define the desc_tokens2 list below.\n",
    "desc_tokens2 = [word.lower() for word in desc_tokenize if word not in punctuation]"
   ]
  },
  {
   "cell_type": "code",
   "execution_count": 37,
   "metadata": {},
   "outputs": [
    {
     "name": "stdout",
     "output_type": "stream",
     "text": [
      "['your', 'favorite', 'podcast', 'for', 'everything', '@', 'chiefs', 'providing', '#', 'chiefskingdom', 'with', 'up', 'to', 'the', 'minute', 'news', '&', 'insight', 'all', 'day', 'everyday', 'with', '@', 'kc_winn', '&', '@', 'grant_morse7🎙']\n"
     ]
    }
   ],
   "source": [
    "print(desc_tokens2)"
   ]
  },
  {
   "cell_type": "code",
   "execution_count": null,
   "metadata": {},
   "outputs": [],
   "source": []
  },
  {
   "cell_type": "code",
   "execution_count": 38,
   "metadata": {},
   "outputs": [],
   "source": [
    "desc_tokens3 = [word for word in desc_tokens2 if word not in stop_words]"
   ]
  },
  {
   "cell_type": "code",
   "execution_count": 39,
   "metadata": {},
   "outputs": [
    {
     "name": "stdout",
     "output_type": "stream",
     "text": [
      "['favorite', 'podcast', 'everything', '@', 'chiefs', 'providing', '#', 'chiefskingdom', 'minute', 'news', '&', 'insight', 'day', 'everyday', '@', 'kc_winn', '&', '@', 'grant_morse7🎙']\n"
     ]
    }
   ],
   "source": [
    "print(desc_tokens3)"
   ]
  },
  {
   "cell_type": "code",
   "execution_count": 40,
   "metadata": {},
   "outputs": [],
   "source": [
    "punctuation = ['.',',',';',':',\"'s\",' ',\"' '\",\"'\",\"``\",\"''\",'(',')',\"'re\",'!','?','_','...','$','[',']','#','@','&','-','--']\n",
    "\n",
    "def string_without_stopwords(description):\n",
    "    #tokenize the string, meaning separate the words and punctuation\n",
    "    desc_tokenize = word_tokenize(description)\n",
    "    \n",
    "    #lowercase the words and take out the punctuation from the string\n",
    "    desc_tokenize2 = [word.lower() for word in desc_tokenize if word not in punctuation]\n",
    "    \n",
    "    #Take out the stop words from the list\n",
    "    desc_tokenize3 = [word for word in desc_tokenize2 if word not in stop_words]\n",
    "    \n",
    "    print(desc_tokenize3)\n"
   ]
  },
  {
   "cell_type": "code",
   "execution_count": 41,
   "metadata": {},
   "outputs": [
    {
     "name": "stdout",
     "output_type": "stream",
     "text": [
      "['discuss', 'google', 'search', 'results', 'work', 'next', 'episode', 'discuss', 'google', 'makes', 'money', 'send', 'voice', 'message', 'https', '//anchor.fm/spencer-rascoff/message']\n"
     ]
    }
   ],
   "source": [
    "string_without_stopwords(spotify_meta.iloc[100]['episode_description'])"
   ]
  },
  {
   "cell_type": "code",
   "execution_count": 42,
   "metadata": {},
   "outputs": [
    {
     "data": {
      "text/plain": [
       "'10-year-old Luke Rascoff asks his dad questions about politics, the economy, technology and science.'"
      ]
     },
     "execution_count": 42,
     "metadata": {},
     "output_type": "execute_result"
    }
   ],
   "source": [
    "spotify_meta.iloc[100]['show_description']"
   ]
  },
  {
   "cell_type": "code",
   "execution_count": 27,
   "metadata": {},
   "outputs": [
    {
     "data": {
      "text/plain": [
       "'🎙'"
      ]
     },
     "execution_count": 27,
     "metadata": {},
     "output_type": "execute_result"
    }
   ],
   "source": [
    "show_description0_list[-1][-1]"
   ]
  },
  {
   "cell_type": "code",
   "execution_count": 47,
   "metadata": {},
   "outputs": [],
   "source": [
    "def is_emoji(s):\n",
    "    return s in UNICODE_EMOJI"
   ]
  },
  {
   "cell_type": "code",
   "execution_count": 51,
   "metadata": {},
   "outputs": [],
   "source": [
    "show_description0 = spotify_meta.iloc[3]['show_description']"
   ]
  },
  {
   "cell_type": "code",
   "execution_count": 52,
   "metadata": {},
   "outputs": [
    {
     "name": "stdout",
     "output_type": "stream",
     "text": [
      "False\n",
      "False\n",
      "False\n",
      "False\n",
      "False\n",
      "False\n",
      "False\n",
      "False\n",
      "False\n",
      "False\n",
      "False\n",
      "False\n",
      "False\n",
      "False\n",
      "False\n",
      "False\n",
      "False\n",
      "False\n",
      "False\n",
      "False\n",
      "False\n",
      "False\n",
      "False\n",
      "False\n",
      "False\n",
      "False\n",
      "False\n",
      "False\n",
      "False\n",
      "False\n",
      "False\n",
      "False\n",
      "False\n",
      "False\n",
      "False\n",
      "False\n",
      "False\n",
      "False\n",
      "False\n",
      "False\n",
      "False\n",
      "False\n",
      "False\n",
      "False\n",
      "False\n",
      "False\n",
      "False\n",
      "False\n",
      "False\n",
      "False\n",
      "False\n",
      "False\n",
      "False\n",
      "False\n",
      "False\n",
      "False\n",
      "False\n",
      "False\n",
      "False\n",
      "False\n",
      "False\n",
      "False\n",
      "False\n",
      "False\n",
      "False\n",
      "False\n",
      "False\n",
      "False\n",
      "False\n",
      "False\n",
      "False\n",
      "False\n",
      "False\n",
      "False\n",
      "False\n",
      "False\n",
      "False\n",
      "False\n",
      "False\n",
      "False\n",
      "False\n",
      "False\n",
      "False\n",
      "False\n",
      "False\n",
      "False\n",
      "False\n",
      "False\n",
      "False\n",
      "False\n",
      "False\n",
      "False\n",
      "False\n",
      "False\n",
      "False\n",
      "False\n",
      "False\n",
      "False\n",
      "False\n",
      "False\n",
      "False\n",
      "False\n",
      "False\n",
      "False\n",
      "False\n",
      "False\n",
      "False\n",
      "False\n",
      "False\n",
      "False\n",
      "False\n",
      "False\n",
      "False\n",
      "False\n",
      "False\n",
      "False\n",
      "False\n",
      "False\n",
      "False\n",
      "False\n",
      "False\n",
      "False\n",
      "False\n",
      "False\n",
      "False\n",
      "False\n",
      "False\n",
      "False\n",
      "False\n",
      "False\n",
      "False\n",
      "False\n",
      "False\n",
      "False\n",
      "False\n",
      "False\n",
      "False\n",
      "False\n",
      "False\n",
      "False\n",
      "False\n",
      "False\n",
      "False\n",
      "False\n",
      "False\n",
      "False\n",
      "False\n",
      "False\n",
      "False\n",
      "False\n",
      "False\n",
      "False\n",
      "False\n",
      "False\n",
      "False\n",
      "True\n"
     ]
    }
   ],
   "source": [
    "for word in show_description0:\n",
    "    for letter in word:\n",
    "        print(is_emoji(letter))"
   ]
  },
  {
   "cell_type": "code",
   "execution_count": 53,
   "metadata": {},
   "outputs": [
    {
     "data": {
      "text/plain": [
       "'Your favorite podcast for everything @Chiefs! Providing #ChiefsKingdom with up to the minute news & insight all day, everyday with @KC_Winn & @grant_morse7🎙'"
      ]
     },
     "execution_count": 53,
     "metadata": {},
     "output_type": "execute_result"
    }
   ],
   "source": [
    "spotify_meta.iloc[3]['show_description']"
   ]
  },
  {
   "cell_type": "code",
   "execution_count": 54,
   "metadata": {},
   "outputs": [
    {
     "name": "stdout",
     "output_type": "stream",
     "text": [
      "[]\n"
     ]
    }
   ],
   "source": [
    "word = spotify_meta.iloc[3]['show_name']\n",
    "emoji_list = []\n",
    "\n",
    "\n",
    "for letter in word:\n",
    "    if is_emoji(letter):\n",
    "        emoji_list.append(letter)\n",
    "        \n",
    "print(emoji_list)"
   ]
  },
  {
   "cell_type": "code",
   "execution_count": 55,
   "metadata": {},
   "outputs": [
    {
     "name": "stdout",
     "output_type": "stream",
     "text": [
      "[170, 176, 450, 877, 1318, 1538, 1748, 2953, 3024, 3057, 3556, 4451, 5528, 5738, 5783, 5916, 6405, 6537, 6544, 6623, 6649, 6971, 7016, 7519, 7863, 8076, 8115, 8398, 8878, 9309, 9553, 9726, 9754, 10606, 11353, 11442, 11834, 11877, 12531, 12580, 12944, 13509, 13794, 13970, 14098, 14177, 14351, 14602, 14664, 14848, 15176, 15353, 15576, 15594, 15992, 16077, 16119, 16134, 16163, 16198, 16403, 17086, 17659, 18094, 18522, 18670, 18971, 19828, 20278, 20354, 20378, 20405, 20431, 20466, 21033, 21173, 21205, 21377, 22247, 22928, 23264, 23462, 23645, 23665, 23725, 24020, 24066, 24279, 24510, 24769, 25110, 25211, 25529, 25603, 25702, 26039, 26247, 26487, 27309, 27508, 27653, 28024, 28045, 28616, 28756, 29667, 29812, 30014, 30060, 30187, 30195, 30500, 30732, 30960, 31437, 31542, 31552, 31645, 31829, 31835, 32069, 32544, 32662, 32743, 32822, 32828, 32968, 33028, 33661, 33708, 33710, 35697, 35884, 36166, 36558, 36565, 37058, 37129, 37279, 37387, 37412, 37783, 37844, 38163, 38381, 38413, 38845, 38964, 39530, 39562, 40335, 40525, 40849, 40864, 40936, 41141, 41525, 41665, 42619, 42880, 42892, 43008, 43013, 43207, 43252, 43281, 43820, 44202, 44203, 44208, 44453, 45109, 45551, 45885, 45962, 46001, 46195, 46210, 46338, 46385, 46569, 46919, 47096, 47128, 47188, 47232, 47235, 47442, 47761, 48071, 48797, 48823, 48945, 49066, 49087, 49109, 49337, 49983, 50328, 50820, 50936, 51094, 51137, 51184, 51220, 51518, 51814, 51978, 52137, 52254, 53252, 53341, 53807, 54360, 54597, 54904, 55257, 55321, 55395, 55571, 55779, 56008, 56401, 56430, 56454, 56548, 56550, 56951, 57143, 57295, 57403, 57651, 57793, 57877, 58157, 58862, 59012, 59313, 59437, 59503, 59989, 60173, 60317, 60336, 60632, 61461, 61529, 61760, 61847, 62119, 62375, 62436, 62609, 62941, 63593, 63646, 63789, 63893, 63913, 63982, 64335, 64730, 64887, 65051, 65252, 65545, 65920, 66329, 66558, 66755, 66861, 66876, 67621, 68066, 68446, 68493, 68541, 69193, 69605, 69901, 70095, 70142, 70184, 70418, 70798, 70849, 70908, 70991, 71205, 71357, 71394, 71495, 71617, 71744, 71812, 72153, 72197, 72198, 72851, 73299, 73384, 73410, 74439, 74546, 74723, 74872, 75288, 75333, 75619, 75625, 76078, 76179, 76285, 76487, 76775, 76786, 76957, 77224, 77229, 77512, 77644, 77885, 78521, 78797, 78828, 79343, 79386, 79647, 79968, 80022, 80209, 80304, 80440, 80672, 81015, 81389, 81982, 82515, 82781, 82797, 83165, 83343, 83504, 83775, 83820, 83866, 83887, 84479, 84541, 84619, 84772, 84924, 85256, 85351, 85814, 85998, 86057, 86159, 86354, 87352, 87474, 87932, 87959, 88241, 88513, 89075, 89084, 89258, 89589, 89824, 89868, 89966, 90025, 90191, 90361, 90478, 90787, 90839, 90862, 90908, 91433, 91576, 91715, 91925, 92014, 92278, 92374, 93391, 94083, 94329, 94668, 94764, 94810, 94932, 95372, 95837, 95905, 96045, 96068, 96189, 96357, 96395, 96601, 97268, 97346, 97360, 97801, 97919, 97982, 98106, 98124, 98238, 98348, 98916, 99336, 99484, 99742, 99993, 100057, 100247, 100560, 101038, 102330, 102498, 102652, 103169, 103548, 103553, 104633, 105293]\n"
     ]
    }
   ],
   "source": [
    "shows_with_emojis = []\n",
    "for i in range(len(spotify_meta)):\n",
    "    word = spotify_meta.iloc[i]['show_name']\n",
    "\n",
    "    for letter in word:\n",
    "        if is_emoji(letter) and i not in shows_with_emojis:\n",
    "            shows_with_emojis.append(i)\n",
    "print(shows_with_emojis)\n",
    "        "
   ]
  },
  {
   "cell_type": "code",
   "execution_count": 56,
   "metadata": {},
   "outputs": [
    {
     "data": {
      "text/plain": [
       "430"
      ]
     },
     "execution_count": 56,
     "metadata": {},
     "output_type": "execute_result"
    }
   ],
   "source": [
    "#How many show names contain emojis?\n",
    "\n",
    "len(shows_with_emojis)"
   ]
  },
  {
   "cell_type": "code",
   "execution_count": 58,
   "metadata": {},
   "outputs": [
    {
     "data": {
      "text/plain": [
       "0.004081245254365983"
      ]
     },
     "execution_count": 58,
     "metadata": {},
     "output_type": "execute_result"
    }
   ],
   "source": [
    "#What percentage of show names contain emojis\n",
    "\n",
    "len(shows_with_emojis)/len(spotify_meta)"
   ]
  },
  {
   "cell_type": "markdown",
   "metadata": {},
   "source": [
    "So 0.41% of show titles have emojis in the title. "
   ]
  },
  {
   "cell_type": "code",
   "execution_count": 60,
   "metadata": {
    "scrolled": true
   },
   "outputs": [
    {
     "name": "stdout",
     "output_type": "stream",
     "text": [
      "[3, 16, 68, 75, 98, 129, 130, 176, 227, 408, 474, 541, 619, 639, 658, 730, 785, 800, 838, 881, 908, 958, 967, 1084, 1134, 1169, 1207, 1222, 1250, 1265, 1278, 1326, 1401, 1436, 1505, 1524, 1528, 1544, 1565, 1615, 1637, 1712, 1714, 1737, 1748, 1759, 1760, 1765, 1867, 1937, 1980, 2073, 2192, 2266, 2272, 2333, 2408, 2480, 2519, 2534, 2570, 2704, 2757, 2772, 2839, 2857, 2953, 3024, 3057, 3085, 3100, 3189, 3203, 3251, 3269, 3315, 3464, 3471, 3478, 3552, 3556, 3766, 3807, 3820, 3845, 3852, 3914, 3964, 4002, 4026, 4097, 4098, 4107, 4268, 4323, 4333, 4344, 4399, 4427, 4523, 4570, 4616, 4666, 4733, 4763, 4776, 4825, 4891, 4904, 4906, 4933, 4947, 4953, 4994, 5058, 5060, 5102, 5113, 5148, 5208, 5267, 5313, 5392, 5558, 5648, 5649, 5881, 5889, 5900, 5915, 5916, 5947, 5970, 5985, 6050, 6102, 6114, 6118, 6194, 6242, 6246, 6256, 6293, 6304, 6352, 6366, 6405, 6475, 6537, 6548, 6609, 6635, 6667, 6811, 6817, 7016, 7023, 7038, 7054, 7087, 7120, 7130, 7192, 7198, 7213, 7253, 7287, 7341, 7387, 7684, 7707, 7712, 7754, 7765, 7817, 7863, 7917, 7970, 8076, 8115, 8234, 8252, 8274, 8326, 8372, 8402, 8579, 8589, 8600, 8606, 8650, 8754, 8836, 8839, 8847, 8862, 8878, 8924, 8982, 8988, 9055, 9107, 9153, 9218, 9232, 9269, 9357, 9403, 9419, 9553, 9571, 9619, 9623, 9674, 9726, 9754, 9763, 9786, 9799, 9858, 9910, 9987, 10027, 10270, 10272, 10273, 10280, 10305, 10333, 10356, 10417, 10449, 10465, 10538, 10562, 10564, 10595, 10606, 10677, 10695, 10745, 10749, 10752, 10851, 10861, 10944, 11003, 11014, 11171, 11186, 11222, 11258, 11308, 11311, 11330, 11371, 11399, 11405, 11430, 11432, 11442, 11447, 11462, 11498, 11552, 11574, 11604, 11620, 11627, 11672, 11741, 11798, 11802, 11834, 11852, 11871, 11877, 11994, 12025, 12056, 12083, 12114, 12176, 12231, 12288, 12291, 12292, 12296, 12302, 12330, 12333, 12334, 12361, 12382, 12397, 12531, 12580, 12582, 12594, 12696, 12720, 12757, 12780, 12786, 12822, 12864, 12870, 12880, 12904, 12944, 12952, 12961, 13005, 13052, 13164, 13176, 13241, 13266, 13495, 13503, 13506, 13551, 13602, 13654, 13684, 13685, 13739, 13765, 13779, 13794, 13926, 13949, 13995, 14019, 14054, 14079, 14090, 14097, 14098, 14126, 14190, 14210, 14225, 14276, 14298, 14426, 14434, 14478, 14516, 14581, 14633, 14659, 14664, 14725, 14726, 14757, 14848, 14916, 14920, 14941, 14970, 14989, 14997, 15089, 15113, 15114, 15121, 15135, 15148, 15160, 15257, 15281, 15353, 15362, 15403, 15417, 15594, 15680, 15703, 15706, 15725, 15769, 15807, 15828, 15866, 15923, 15992, 16007, 16039, 16077, 16119, 16134, 16163, 16198, 16209, 16244, 16315, 16438, 16447, 16587, 16665, 16772, 16773, 16832, 16979, 17101, 17142, 17165, 17189, 17231, 17271, 17302, 17303, 17306, 17309, 17371, 17395, 17402, 17403, 17413, 17448, 17479, 17511, 17512, 17526, 17577, 17578, 17661, 17774, 17775, 17789, 17822, 17887, 17950, 18094, 18100, 18129, 18134, 18149, 18159, 18179, 18196, 18270, 18276, 18279, 18337, 18348, 18386, 18442, 18522, 18608, 18611, 18686, 18687, 18731, 18772, 18781, 18787, 18792, 18863, 18957, 19029, 19031, 19042, 19097, 19143, 19195, 19241, 19454, 19526, 19528, 19547, 19582, 19653, 19775, 19804, 19828, 19831, 19839, 19907, 19924, 19931, 19947, 20013, 20015, 20046, 20050, 20065, 20112, 20133, 20278, 20378, 20416, 20431, 20440, 20448, 20466, 20487, 20488, 20531, 20594, 20603, 20616, 20624, 20626, 20695, 20738, 20771, 20779, 20810, 20811, 20867, 21050, 21156, 21167, 21173, 21181, 21268, 21270, 21297, 21298, 21362, 21372, 21469, 21476, 21504, 21529, 21566, 21581, 21681, 21716, 21737, 21778, 21827, 21923, 21964, 21985, 21986, 22061, 22073, 22142, 22232, 22237, 22339, 22484, 22503, 22525, 22561, 22712, 22720, 22788, 22821, 22837, 22862, 22913, 22928, 23048, 23097, 23101, 23171, 23212, 23217, 23264, 23321, 23369, 23383, 23438, 23510, 23514, 23543, 23567, 23606, 23646, 23728, 23746, 23785, 23818, 23868, 23893, 24020, 24049, 24066, 24117, 24154, 24199, 24216, 24237, 24279, 24305, 24306, 24325, 24342, 24417, 24440, 24448, 24450, 24510, 24537, 24595, 24669, 24690, 24702, 24730, 24769, 24786, 24811, 24907, 24910, 24935, 24962, 25010, 25018, 25036, 25039, 25050, 25102, 25118, 25148, 25187, 25207, 25211, 25313, 25321, 25343, 25355, 25361, 25467, 25521, 25595, 25603, 25605, 25700, 25702, 25756, 25769, 25816, 25838, 25898, 25987, 26039, 26134, 26140, 26149, 26171, 26248, 26259, 26286, 26297, 26305, 26308, 26344, 26349, 26395, 26406, 26421, 26461, 26536, 26566, 26575, 26607, 26631, 26672, 26674, 26687, 26739, 26768, 26792, 26850, 26867, 26962, 26995, 27044, 27093, 27142, 27226, 27227, 27421, 27449, 27506, 27554, 27592, 27700, 27744, 27774, 27779, 27789, 27817, 27820, 27834, 27864, 27890, 27910, 27964, 27983, 28016, 28019, 28021, 28027, 28029, 28039, 28072, 28085, 28091, 28095, 28101, 28111, 28193, 28234, 28263, 28306, 28308, 28315, 28419, 28491, 28537, 28616, 28650, 28667, 28784, 28823, 28824, 28827, 28859, 28884, 28944, 28952, 28984, 29004, 29043, 29333, 29352, 29375, 29404, 29439, 29477, 29486, 29492, 29667, 29701, 29778, 29799, 29864, 29970, 29975, 29984, 29994, 30014, 30073, 30111, 30167, 30187, 30195, 30206, 30212, 30229, 30232, 30270, 30309, 30367, 30373, 30426, 30440, 30453, 30465, 30500, 30545, 30547, 30557, 30593, 30606, 30610, 30617, 30623, 30649, 30758, 30792, 30828, 30897, 30903, 30939, 31025, 31037, 31070, 31103, 31119, 31124, 31274, 31296, 31328, 31360, 31363, 31413, 31437, 31487, 31542, 31552, 31645, 31656, 31672, 31693, 31757, 31790, 31797, 31798, 31819, 31823, 31835, 31886, 31898, 31928, 32064, 32089, 32099, 32152, 32164, 32231, 32297, 32345, 32362, 32379, 32389, 32421, 32438, 32453, 32558, 32571, 32583, 32603, 32639, 32743, 32761, 32814, 32828, 32856, 32942, 32955, 32968, 33028, 33105, 33138, 33144, 33152, 33164, 33177, 33197, 33255, 33280, 33359, 33370, 33382, 33401, 33413, 33472, 33480, 33496, 33509, 33515, 33518, 33600, 33628, 33644, 33685, 33708, 33747, 33837, 33876, 33984, 34022, 34059, 34147, 34159, 34163, 34186, 34188, 34222, 34253, 34269, 34329, 34336, 34437, 34471, 34567, 34628, 34638, 34665, 34734, 34769, 34782, 34799, 34806, 34866, 35001, 35081, 35152, 35156, 35223, 35235, 35330, 35381, 35436, 35520, 35538, 35541, 35650, 35675, 35697, 35716, 35757, 35773, 35798, 35914, 35922, 35973, 36000, 36025, 36166, 36240, 36241, 36324, 36352, 36384, 36385, 36493, 36506, 36511, 36565, 36583, 36705, 36741, 36823, 36826, 36830, 36969, 36979, 37014, 37034, 37058, 37107, 37129, 37214, 37279, 37309, 37311, 37412, 37443, 37454, 37488, 37520, 37541, 37563, 37634, 37664, 37695, 37800, 37814, 37844, 37845, 37866, 37891, 37904, 38015, 38037, 38069, 38107, 38148, 38169, 38199, 38220, 38251, 38353, 38381, 38411, 38452, 38619, 38845, 38903, 38917, 38987, 39112, 39223, 39263, 39267, 39295, 39317, 39351, 39393, 39408, 39438, 39444, 39453, 39462, 39482, 39530, 39560, 39601, 39671, 39745, 39974, 39976, 40088, 40094, 40112, 40127, 40151, 40155, 40179, 40244, 40304, 40369, 40390, 40543, 40550, 40762, 40864, 41023, 41147, 41170, 41230, 41232, 41233, 41353, 41437, 41465, 41476, 41551, 41605, 41666, 41727, 41770, 41789, 41852, 41865, 41884, 41925, 41952, 41953, 41956, 41989, 41992, 42019, 42021, 42026, 42047, 42148, 42158, 42195, 42204, 42214, 42258, 42263, 42327, 42331, 42363, 42371, 42395, 42398, 42404, 42409, 42445, 42467, 42489, 42567, 42611, 42619, 42736, 42815, 42856, 43008, 43050, 43074, 43095, 43105, 43248, 43252, 43312, 43328, 43502, 43537, 43647, 43750, 43799, 43814, 43924, 43941, 43966, 43972, 44003, 44026, 44030, 44110, 44153, 44226, 44264, 44278, 44289, 44303, 44330, 44332, 44356, 44391, 44440, 44453, 44492, 44575, 44616, 44780, 44795, 44797, 44813, 44832, 44840, 44885, 44917, 44952, 44960, 44998, 45012, 45101, 45109, 45161, 45163, 45196, 45297, 45305, 45343, 45368, 45405, 45415, 45469, 45539, 45584, 45659, 45660, 45693, 45758, 45833, 45885, 45915, 45952, 45962, 46001, 46018, 46071, 46121, 46145, 46148, 46195, 46258, 46286, 46312, 46338, 46378, 46385, 46389, 46410, 46467, 46513, 46515, 46574, 46667, 46677, 46707, 46721, 46725, 46733, 46767, 46805, 46903, 46919, 46961, 46980, 47019, 47028, 47098, 47128, 47187, 47188, 47203, 47232, 47241, 47288, 47290, 47370, 47376, 47435, 47442, 47464, 47476, 47500, 47525, 47552, 47621, 47681, 47688, 47702, 47797, 47855, 47911, 47938, 48071, 48191, 48224, 48353, 48398, 48494, 48557, 48604, 48652, 48660, 48716, 48797, 48823, 48842, 48905, 48921, 48946, 48999, 49049, 49087, 49095, 49109, 49154, 49161, 49210, 49254, 49294, 49337, 49385, 49415, 49471, 49543, 49544, 49685, 49726, 49771, 49778, 49813, 49839, 49983, 49991, 50002, 50050, 50064, 50069, 50073, 50121, 50191, 50253, 50291, 50328, 50481, 50500, 50506, 50515, 50577, 50617, 50738, 50805, 50806, 50820, 50903, 50951, 51184, 51243, 51286, 51378, 51416, 51422, 51455, 51482, 51518, 51532, 51533, 51538, 51700, 51726, 51764, 51776, 51814, 51936, 51978, 51998, 52041, 52053, 52065, 52087, 52089, 52119, 52137, 52141, 52177, 52246, 52254, 52290, 52401, 52405, 52413, 52452, 52526, 52542, 52579, 52591, 52621, 52630, 52666, 52671, 52743, 52841, 52877, 52997, 53020, 53039, 53081, 53109, 53166, 53210, 53211, 53232, 53257, 53283, 53302, 53341, 53450, 53474, 53491, 53665, 53728, 53729, 53734, 53740, 53774, 53816, 53827, 53878, 53882, 53910, 53982, 53994, 54059, 54228, 54243, 54246, 54292, 54303, 54360, 54383, 54423, 54497, 54533, 54597, 54614, 54632, 54635, 54679, 54756, 54761, 54858, 54867, 54904, 54915, 54954, 55008, 55021, 55069, 55076, 55280, 55321, 55387, 55454, 55475, 55483, 55560, 55571, 55576, 55598, 55604, 55610, 55625, 55760, 55777, 55779, 55781, 55829, 55847, 55891, 55966, 56038, 56046, 56154, 56156, 56175, 56217, 56237, 56251, 56330, 56341, 56430, 56454, 56499, 56528, 56548, 56550, 56558, 56594, 56614, 56646, 56694, 56732, 56823, 56851, 56859, 56881, 56902, 56925, 56951, 56979, 57020, 57048, 57091, 57096, 57117, 57125, 57127, 57162, 57213, 57295, 57315, 57380, 57398, 57422, 57459, 57525, 57540, 57635, 57651, 57793, 57850, 57866, 57877, 57892, 58119, 58155, 58157, 58234, 58259, 58307, 58438, 58501, 58502, 58553, 58587, 58600, 58689, 58829, 58862, 58909, 58916, 58935, 58985, 58991, 59012, 59034, 59040, 59041, 59050, 59056, 59128, 59191, 59308, 59365, 59382, 59410, 59437, 59503, 59551, 59568, 59630, 59771, 59792, 59820, 59824, 59826, 59883, 59961, 60001, 60119, 60168, 60173, 60248, 60316, 60317, 60326, 60336, 60357, 60564, 60571, 60586, 60591, 60632, 60699, 60756, 60770, 60787, 60796, 60799, 60813, 60871, 60914, 60976, 60988, 60990, 60991, 61108, 61271, 61339, 61366, 61414, 61540, 61559, 61562, 61693, 61699, 61712, 61838, 61873, 61964, 62008, 62015, 62090, 62119, 62149, 62196, 62211, 62212, 62236, 62278, 62361, 62376, 62436, 62493, 62522, 62523, 62524, 62641, 62676, 62702, 62705, 62850, 62859, 62917, 62941, 62998, 63011, 63110, 63169, 63180, 63182, 63265, 63364, 63405, 63493, 63498, 63546, 63564, 63593, 63646, 63655, 63673, 63687, 63724, 63753, 63791, 63860, 63902, 63903, 63935, 63965, 64051, 64081, 64123, 64154, 64211, 64321, 64359, 64409, 64476, 64514, 64539, 64604, 64667, 64679, 64704, 64770, 64773, 64810, 64843, 64887, 64931, 64958, 64999, 65011, 65144, 65155, 65160, 65236, 65254, 65256, 65290, 65349, 65364, 65388, 65455, 65545, 65742, 65754, 65798, 65852, 65888, 65920, 65931, 65945, 66030, 66043, 66083, 66157, 66166, 66193, 66199, 66236, 66260, 66343, 66388, 66415, 66486, 66517, 66534, 66610, 66637, 66707, 66726, 66788, 66817, 66926, 66953, 66962, 66965, 67010, 67069, 67142, 67146, 67203, 67218, 67361, 67383, 67385, 67621, 67646, 67667, 67688, 67737, 67759, 67830, 67901, 67907, 68007, 68066, 68122, 68144, 68200, 68226, 68227, 68300, 68396, 68450, 68452, 68490, 68493, 68527, 68541, 68694, 68716, 68788, 68797, 68802, 68860, 68939, 68946, 68949, 69018, 69203, 69290, 69304, 69319, 69360, 69384, 69430, 69490, 69498, 69563, 69605, 69632, 69676, 69760, 69793, 69804, 69921, 69963, 69978, 70006, 70065, 70074, 70184, 70188, 70256, 70308, 70363, 70417, 70445, 70499, 70622, 70654, 70676, 70686, 70699, 70734, 70747, 70753, 70766, 70798, 70894, 70908, 70924, 70975, 71015, 71058, 71073, 71139, 71181, 71205, 71240, 71273, 71332, 71376, 71389, 71454, 71469, 71555, 71580, 71596, 71617, 71638, 71648, 71708, 71744, 71812, 71816, 71865, 71953, 71976, 71978, 71994, 72032, 72099, 72100, 72141, 72154, 72155, 72206, 72239, 72296, 72341, 72347, 72424, 72473, 72490, 72494, 72519, 72541, 72616, 72638, 72640, 72649, 72672, 72686, 72729, 72733, 72851, 72936, 72975, 73121, 73135, 73153, 73216, 73259, 73296, 73384, 73410, 73450, 73460, 73496, 73611, 73736, 73753, 73809, 73898, 73903, 73971, 74005, 74082, 74174, 74214, 74300, 74353, 74371, 74374, 74379, 74456, 74487, 74511, 74546, 74595, 74644, 74683, 74723, 74743, 74837, 74872, 74933, 75098, 75104, 75125, 75325, 75330, 75333, 75357, 75370, 75377, 75416, 75426, 75436, 75580, 75604, 75619, 75625, 75634, 75712, 75785, 75789, 75900, 75913, 75918, 75977, 76043, 76102, 76135, 76179, 76211, 76230, 76269, 76301, 76327, 76421, 76487, 76509, 76516, 76552, 76553, 76571, 76602, 76636, 76668, 76670, 76697, 76740, 76760, 76761, 76775, 76815, 76849, 76857, 76963, 77018, 77093, 77127, 77143, 77229, 77256, 77293, 77333, 77351, 77402, 77496, 77510, 77512, 77554, 77618, 77630, 77644, 77650, 77678, 77699, 77784, 77813, 77867, 77879, 77913, 77970, 78025, 78099, 78100, 78117, 78120, 78130, 78147, 78180, 78217, 78227, 78412, 78421, 78449, 78496, 78520, 78521, 78539, 78593, 78741, 78802, 78805, 78806, 78841, 78856, 79146, 79187, 79192, 79211, 79390, 79432, 79434, 79447, 79481, 79532, 79553, 79576, 79615, 79616, 79647, 79654, 79720, 79777, 79819, 79838, 79922, 79948, 79968, 79982, 79992, 80108, 80114, 80130, 80153, 80187, 80209, 80211, 80222, 80229, 80233, 80234, 80254, 80304, 80360, 80440, 80672, 80717, 80720, 80722, 80753, 80769, 80843, 80847, 80903, 80975, 80980, 81048, 81075, 81186, 81201, 81205, 81207, 81233, 81262, 81354, 81385, 81389, 81459, 81504, 81529, 81599, 81658, 81663, 81734, 81749, 81761, 81837, 81901, 81978, 81994, 82013, 82107, 82135, 82168, 82224, 82313, 82322, 82344, 82372, 82476, 82515, 82543, 82634, 82661, 82802, 82804, 82812, 82819, 83079, 83089, 83113, 83134, 83165, 83199, 83257, 83291, 83341, 83343, 83416, 83456, 83504, 83582, 83703, 83775, 83804, 83810, 83871, 83887, 83909, 83949, 83976, 83978, 84014, 84048, 84050, 84095, 84104, 84121, 84201, 84215, 84339, 84392, 84405, 84406, 84643, 84647, 84686, 84751, 84764, 84879, 84924, 84955, 85006, 85045, 85133, 85144, 85170, 85183, 85186, 85191, 85226, 85236, 85256, 85341, 85387, 85430, 85627, 85632, 85668, 85700, 85779, 85780, 85788, 85805, 85814, 85885, 85976, 85978, 85986, 85998, 86037, 86049, 86060, 86062, 86074, 86159, 86278, 86284, 86324, 86334, 86363, 86409, 86430, 86485, 86496, 86508, 86630, 86749, 86761, 86805, 86836, 86929, 86945, 87034, 87048, 87103, 87143, 87211, 87236, 87238, 87310, 87340, 87352, 87362, 87380, 87448, 87498, 87640, 87766, 87775, 87865, 87876, 87893, 87896, 87932, 87942, 87959, 87966, 87991, 88002, 88008, 88033, 88042, 88133, 88196, 88241, 88248, 88260, 88351, 88441, 88442, 88446, 88469, 88471, 88472, 88513, 88550, 88567, 88612, 88625, 88709, 88717, 88719, 88830, 88874, 88888, 88954, 89031, 89075, 89168, 89304, 89360, 89378, 89380, 89480, 89566, 89589, 89706, 89726, 89734, 89735, 89741, 89812, 89824, 89862, 89868, 89893, 89953, 89955, 89966, 89998, 90024, 90043, 90053, 90082, 90170, 90191, 90293, 90300, 90332, 90333, 90351, 90361, 90415, 90418, 90520, 90591, 90618, 90636, 90677, 90687, 90707, 90808, 90818, 90862, 90933, 90952, 90977, 91053, 91082, 91194, 91196, 91301, 91405, 91433, 91576, 91598, 91620, 91715, 91731, 91798, 91844, 91925, 91927, 91961, 91997, 92100, 92278, 92310, 92312, 92374, 92415, 92449, 92463, 92513, 92567, 92568, 92569, 92572, 92589, 92628, 92649, 92681, 92719, 92728, 92785, 92824, 92890, 92939, 92965, 93005, 93016, 93037, 93048, 93057, 93073, 93091, 93143, 93172, 93241, 93252, 93266, 93292, 93294, 93311, 93393, 93411, 93414, 93466, 93476, 93540, 93602, 93698, 93703, 93739, 93767, 93771, 93865, 93945, 93962, 94028, 94036, 94037, 94068, 94145, 94169, 94242, 94423, 94433, 94434, 94447, 94461, 94507, 94616, 94715, 94732, 94744, 94758, 94764, 94806, 94923, 94932, 94968, 95014, 95027, 95110, 95167, 95222, 95236, 95238, 95263, 95285, 95340, 95360, 95427, 95472, 95496, 95555, 95556, 95576, 95674, 95695, 95783, 95831, 95835, 95870, 95905, 95946, 96030, 96045, 96046, 96128, 96189, 96198, 96248, 96262, 96368, 96418, 96426, 96441, 96445, 96456, 96471, 96474, 96502, 96516, 96544, 96602, 96604, 96612, 96648, 96865, 96875, 96902, 96908, 96944, 96964, 96989, 96990, 97025, 97065, 97067, 97137, 97139, 97171, 97193, 97218, 97219, 97220, 97268, 97313, 97351, 97514, 97549, 97560, 97618, 97648, 97655, 97731, 97780, 97801, 97843, 97915, 97962, 98139, 98158, 98196, 98228, 98238, 98259, 98337, 98355, 98380, 98417, 98420, 98532, 98551, 98618, 98687, 98690, 98792, 98837, 98887, 98936, 98951, 98987, 99094, 99170, 99255, 99256, 99336, 99353, 99393, 99417, 99426, 99435, 99437, 99484, 99565, 99670, 99743, 99795, 99811, 99821, 99838, 99866, 99966, 100003, 100019, 100024, 100160, 100181, 100184, 100191, 100242, 100247, 100292, 100305, 100426, 100466, 100633, 100660, 100675, 100704, 100781, 100842, 100862, 100886, 100931, 100952, 100956, 101036, 101055, 101065, 101094, 101097, 101109, 101119, 101131, 101166, 101204, 101209, 101220, 101240, 101271, 101326, 101327, 101338, 101351, 101508, 101703, 101730, 101765, 101804, 101822, 101833, 101835, 101844, 101884, 101890, 101970, 102115, 102149, 102188, 102245, 102260, 102276, 102280, 102312, 102315, 102330, 102343, 102397, 102410, 102426, 102465, 102475, 102498, 102532, 102554, 102557, 102625, 102634, 102701, 102818, 102853, 102915, 102998, 103055, 103142, 103160, 103169, 103234, 103240, 103251, 103327, 103356, 103381, 103401, 103446, 103447, 103449, 103467, 103486, 103553, 103565, 103605, 103626, 103715, 103769, 103837, 103940, 104029, 104060, 104333, 104338, 104460, 104494, 104500, 104503, 104633, 104701, 104709, 104748, 104807, 104808, 104869, 104924, 105148, 105293, 105303, 105327, 105329, 105353]\n"
     ]
    }
   ],
   "source": [
    "# What percent of show descriptions have emojis?\n",
    "#First, find the indices of the descriptions that contain an emoji\n",
    "spotify_meta['show_description'].fillna('none')\n",
    "\n",
    "show_descriptions_with_emojis = []\n",
    "for i in range(len(spotify_meta)):\n",
    "    word = spotify_meta.iloc[i]['show_description']\n",
    "    #Quick fix for now for descriptions that are NaN\n",
    "    if i != 19448 and i != 29431:\n",
    "        for letter in word:\n",
    "            if is_emoji(letter) and i not in show_descriptions_with_emojis:\n",
    "                show_descriptions_with_emojis.append(i)\n",
    "    #print(i)\n",
    "print(show_descriptions_with_emojis)"
   ]
  },
  {
   "cell_type": "code",
   "execution_count": 61,
   "metadata": {},
   "outputs": [
    {
     "data": {
      "text/plain": [
       "2570"
      ]
     },
     "execution_count": 61,
     "metadata": {},
     "output_type": "execute_result"
    }
   ],
   "source": [
    "#How many show descriptions contain emojis?\n",
    "\n",
    "len(show_descriptions_with_emojis)"
   ]
  },
  {
   "cell_type": "code",
   "execution_count": 62,
   "metadata": {},
   "outputs": [
    {
     "data": {
      "text/plain": [
       "0.024392558845861806"
      ]
     },
     "execution_count": 62,
     "metadata": {},
     "output_type": "execute_result"
    }
   ],
   "source": [
    "#What percent of show descriptions contain emojis?\n",
    "\n",
    "len(show_descriptions_with_emojis)/len(spotify_meta)"
   ]
  },
  {
   "cell_type": "code",
   "execution_count": 63,
   "metadata": {},
   "outputs": [
    {
     "data": {
      "text/plain": [
       "'Simple Dominating EDGE™ teachings to attract anything you desire, allowing you to live the life of your dreams! The tools to intentionally cooperate with the \"Law of Attraction\" - DominatingEdge.com'"
      ]
     },
     "execution_count": 63,
     "metadata": {},
     "output_type": "execute_result"
    }
   ],
   "source": [
    "spotify_meta.iloc[6537]['show_description']"
   ]
  },
  {
   "cell_type": "code",
   "execution_count": 66,
   "metadata": {},
   "outputs": [
    {
     "data": {
      "text/plain": [
       "nan"
      ]
     },
     "execution_count": 66,
     "metadata": {},
     "output_type": "execute_result"
    }
   ],
   "source": [
    "#Example of nan description\n",
    "spotify_meta.iloc[19448]['show_description']"
   ]
  },
  {
   "cell_type": "code",
   "execution_count": 67,
   "metadata": {},
   "outputs": [
    {
     "data": {
      "text/plain": [
       "'The Purple Unicorn 💜🦄♍'"
      ]
     },
     "execution_count": 67,
     "metadata": {},
     "output_type": "execute_result"
    }
   ],
   "source": [
    "spotify_meta.iloc[14848]['show_name']"
   ]
  },
  {
   "cell_type": "code",
   "execution_count": 68,
   "metadata": {},
   "outputs": [],
   "source": [
    "emoji_list = []\n",
    "just_title = []"
   ]
  },
  {
   "cell_type": "code",
   "execution_count": 69,
   "metadata": {},
   "outputs": [],
   "source": [
    "just_title = spotify_meta.iloc[14848]['show_name']\n",
    "for letter in spotify_meta.iloc[14848]['show_name']:\n",
    "    if letter in UNICODE_EMOJI:\n",
    "        emoji_list.append(letter)\n",
    "        just_title = just_title.replace(letter,\"\")\n",
    "        "
   ]
  },
  {
   "cell_type": "code",
   "execution_count": 70,
   "metadata": {},
   "outputs": [
    {
     "data": {
      "text/plain": [
       "['💜', '🦄', '♍']"
      ]
     },
     "execution_count": 70,
     "metadata": {},
     "output_type": "execute_result"
    }
   ],
   "source": [
    "emoji_list"
   ]
  },
  {
   "cell_type": "code",
   "execution_count": 71,
   "metadata": {},
   "outputs": [
    {
     "name": "stdout",
     "output_type": "stream",
     "text": [
      ":purple_heart:\n",
      ":unicorn_face:\n",
      ":Virgo:\n"
     ]
    }
   ],
   "source": [
    "for i in range(len(emoji_list)):\n",
    "    print(emoji.demojize(emoji_list[i]))"
   ]
  },
  {
   "cell_type": "code",
   "execution_count": 72,
   "metadata": {},
   "outputs": [
    {
     "data": {
      "text/plain": [
       "'The Purple Unicorn '"
      ]
     },
     "execution_count": 72,
     "metadata": {},
     "output_type": "execute_result"
    }
   ],
   "source": [
    "just_title"
   ]
  },
  {
   "cell_type": "code",
   "execution_count": null,
   "metadata": {},
   "outputs": [],
   "source": []
  },
  {
   "cell_type": "code",
   "execution_count": null,
   "metadata": {},
   "outputs": [],
   "source": []
  },
  {
   "cell_type": "code",
   "execution_count": 73,
   "metadata": {},
   "outputs": [],
   "source": [
    "#lists that will be added to the df\n",
    "show_name_without_emojis = []\n",
    "emojis_from_show_names=[]"
   ]
  },
  {
   "cell_type": "code",
   "execution_count": 74,
   "metadata": {},
   "outputs": [],
   "source": [
    "for i in range(len(spotify_meta)):\n",
    "    #Looking at ith show name\n",
    "    word = spotify_meta.iloc[i]['show_name']\n",
    "    \n",
    "    #Check if letter is an emoji\n",
    "    emojis=[letter for letter in word if letter in UNICODE_EMOJI]\n",
    "    emojis_from_show_names.append(emojis)\n",
    "        "
   ]
  },
  {
   "cell_type": "code",
   "execution_count": 75,
   "metadata": {},
   "outputs": [],
   "source": [
    "spotify_meta['emojis_from_show_names']=emojis_from_show_names"
   ]
  },
  {
   "cell_type": "code",
   "execution_count": 76,
   "metadata": {},
   "outputs": [
    {
     "data": {
      "text/html": [
       "<div>\n",
       "<style scoped>\n",
       "    .dataframe tbody tr th:only-of-type {\n",
       "        vertical-align: middle;\n",
       "    }\n",
       "\n",
       "    .dataframe tbody tr th {\n",
       "        vertical-align: top;\n",
       "    }\n",
       "\n",
       "    .dataframe thead th {\n",
       "        text-align: right;\n",
       "    }\n",
       "</style>\n",
       "<table border=\"1\" class=\"dataframe\">\n",
       "  <thead>\n",
       "    <tr style=\"text-align: right;\">\n",
       "      <th></th>\n",
       "      <th>show_uri</th>\n",
       "      <th>show_name</th>\n",
       "      <th>show_description</th>\n",
       "      <th>publisher</th>\n",
       "      <th>language</th>\n",
       "      <th>rss_link</th>\n",
       "      <th>episode_uri</th>\n",
       "      <th>episode_name</th>\n",
       "      <th>episode_description</th>\n",
       "      <th>duration</th>\n",
       "      <th>show_filename_prefix</th>\n",
       "      <th>episode_filename_prefix</th>\n",
       "      <th>emojis_from_show_names</th>\n",
       "    </tr>\n",
       "  </thead>\n",
       "  <tbody>\n",
       "    <tr>\n",
       "      <th>0</th>\n",
       "      <td>spotify:show:2NYtxEZyYelR6RMKmjfPLB</td>\n",
       "      <td>Kream in your Koffee</td>\n",
       "      <td>A 20-something blunt female takes on the world...</td>\n",
       "      <td>Katie Houle</td>\n",
       "      <td>['en']</td>\n",
       "      <td>https://anchor.fm/s/11b84b68/podcast/rss</td>\n",
       "      <td>spotify:episode:000A9sRBYdVh66csG2qEdj</td>\n",
       "      <td>1: It’s Christmas Time!</td>\n",
       "      <td>On the first ever episode of Kream in your Kof...</td>\n",
       "      <td>12.700133</td>\n",
       "      <td>show_2NYtxEZyYelR6RMKmjfPLB</td>\n",
       "      <td>000A9sRBYdVh66csG2qEdj</td>\n",
       "      <td>[]</td>\n",
       "    </tr>\n",
       "    <tr>\n",
       "      <th>1</th>\n",
       "      <td>spotify:show:15iWCbU7QoO23EndPEO6aN</td>\n",
       "      <td>Morning Cup Of Murder</td>\n",
       "      <td>Ever wonder what murder took place on today in...</td>\n",
       "      <td>Morning Cup Of Murder</td>\n",
       "      <td>['en']</td>\n",
       "      <td>https://anchor.fm/s/b07181c/podcast/rss</td>\n",
       "      <td>spotify:episode:000HP8n3hNIfglT2wSI2cA</td>\n",
       "      <td>The Goleta Postal Facility shootings- January ...</td>\n",
       "      <td>See something, say something. It’s a mantra ma...</td>\n",
       "      <td>6.019383</td>\n",
       "      <td>show_15iWCbU7QoO23EndPEO6aN</td>\n",
       "      <td>000HP8n3hNIfglT2wSI2cA</td>\n",
       "      <td>[]</td>\n",
       "    </tr>\n",
       "    <tr>\n",
       "      <th>2</th>\n",
       "      <td>spotify:show:6vZRgUFTYwbAA79UNCADr4</td>\n",
       "      <td>Inside The 18 : A Podcast for Goalkeepers by G...</td>\n",
       "      <td>Inside the 18 is your source for all things Go...</td>\n",
       "      <td>Inside the 18 GK Media</td>\n",
       "      <td>['en']</td>\n",
       "      <td>https://anchor.fm/s/81a072c/podcast/rss</td>\n",
       "      <td>spotify:episode:001UfOruzkA3Bn1SPjcdfa</td>\n",
       "      <td>Ep.36 - Incorporating a Singular Goalkeeping C...</td>\n",
       "      <td>Today’s episode is a sit down Michael and Omar...</td>\n",
       "      <td>43.616333</td>\n",
       "      <td>show_6vZRgUFTYwbAA79UNCADr4</td>\n",
       "      <td>001UfOruzkA3Bn1SPjcdfa</td>\n",
       "      <td>[]</td>\n",
       "    </tr>\n",
       "    <tr>\n",
       "      <th>3</th>\n",
       "      <td>spotify:show:5BvKEjaMSuvUsGROGi2S7s</td>\n",
       "      <td>Arrowhead Live!</td>\n",
       "      <td>Your favorite podcast for everything @Chiefs! ...</td>\n",
       "      <td>Arrowhead Live!</td>\n",
       "      <td>['en-US']</td>\n",
       "      <td>https://anchor.fm/s/917dba4/podcast/rss</td>\n",
       "      <td>spotify:episode:001i89SvIQgDuuyC53hfBm</td>\n",
       "      <td>Episode 1: Arrowhead Live! Debut</td>\n",
       "      <td>Join us as we take a look at all current Chief...</td>\n",
       "      <td>58.189200</td>\n",
       "      <td>show_5BvKEjaMSuvUsGROGi2S7s</td>\n",
       "      <td>001i89SvIQgDuuyC53hfBm</td>\n",
       "      <td>[]</td>\n",
       "    </tr>\n",
       "    <tr>\n",
       "      <th>4</th>\n",
       "      <td>spotify:show:7w3h3umpH74veEJcbE6xf4</td>\n",
       "      <td>FBoL</td>\n",
       "      <td>The comedy podcast about toxic characters, wri...</td>\n",
       "      <td>Emily Edwards</td>\n",
       "      <td>['en']</td>\n",
       "      <td>https://www.fuckboisoflit.com/episodes?format=rss</td>\n",
       "      <td>spotify:episode:0025RWNwe2lnp6HcnfzwzG</td>\n",
       "      <td>The Lion, The Witch, And The Wardrobe - Ashley...</td>\n",
       "      <td>The modern morality tail of how to stay good f...</td>\n",
       "      <td>51.782050</td>\n",
       "      <td>show_7w3h3umpH74veEJcbE6xf4</td>\n",
       "      <td>0025RWNwe2lnp6HcnfzwzG</td>\n",
       "      <td>[]</td>\n",
       "    </tr>\n",
       "  </tbody>\n",
       "</table>\n",
       "</div>"
      ],
      "text/plain": [
       "                              show_uri  \\\n",
       "0  spotify:show:2NYtxEZyYelR6RMKmjfPLB   \n",
       "1  spotify:show:15iWCbU7QoO23EndPEO6aN   \n",
       "2  spotify:show:6vZRgUFTYwbAA79UNCADr4   \n",
       "3  spotify:show:5BvKEjaMSuvUsGROGi2S7s   \n",
       "4  spotify:show:7w3h3umpH74veEJcbE6xf4   \n",
       "\n",
       "                                           show_name  \\\n",
       "0                               Kream in your Koffee   \n",
       "1                              Morning Cup Of Murder   \n",
       "2  Inside The 18 : A Podcast for Goalkeepers by G...   \n",
       "3                                    Arrowhead Live!   \n",
       "4                                              FBoL    \n",
       "\n",
       "                                    show_description               publisher  \\\n",
       "0  A 20-something blunt female takes on the world...             Katie Houle   \n",
       "1  Ever wonder what murder took place on today in...   Morning Cup Of Murder   \n",
       "2  Inside the 18 is your source for all things Go...  Inside the 18 GK Media   \n",
       "3  Your favorite podcast for everything @Chiefs! ...         Arrowhead Live!   \n",
       "4  The comedy podcast about toxic characters, wri...           Emily Edwards   \n",
       "\n",
       "    language                                           rss_link  \\\n",
       "0     ['en']           https://anchor.fm/s/11b84b68/podcast/rss   \n",
       "1     ['en']            https://anchor.fm/s/b07181c/podcast/rss   \n",
       "2     ['en']            https://anchor.fm/s/81a072c/podcast/rss   \n",
       "3  ['en-US']            https://anchor.fm/s/917dba4/podcast/rss   \n",
       "4     ['en']  https://www.fuckboisoflit.com/episodes?format=rss   \n",
       "\n",
       "                              episode_uri  \\\n",
       "0  spotify:episode:000A9sRBYdVh66csG2qEdj   \n",
       "1  spotify:episode:000HP8n3hNIfglT2wSI2cA   \n",
       "2  spotify:episode:001UfOruzkA3Bn1SPjcdfa   \n",
       "3  spotify:episode:001i89SvIQgDuuyC53hfBm   \n",
       "4  spotify:episode:0025RWNwe2lnp6HcnfzwzG   \n",
       "\n",
       "                                        episode_name  \\\n",
       "0                            1: It’s Christmas Time!   \n",
       "1  The Goleta Postal Facility shootings- January ...   \n",
       "2  Ep.36 - Incorporating a Singular Goalkeeping C...   \n",
       "3                   Episode 1: Arrowhead Live! Debut   \n",
       "4  The Lion, The Witch, And The Wardrobe - Ashley...   \n",
       "\n",
       "                                 episode_description   duration  \\\n",
       "0  On the first ever episode of Kream in your Kof...  12.700133   \n",
       "1  See something, say something. It’s a mantra ma...   6.019383   \n",
       "2  Today’s episode is a sit down Michael and Omar...  43.616333   \n",
       "3  Join us as we take a look at all current Chief...  58.189200   \n",
       "4  The modern morality tail of how to stay good f...  51.782050   \n",
       "\n",
       "          show_filename_prefix episode_filename_prefix emojis_from_show_names  \n",
       "0  show_2NYtxEZyYelR6RMKmjfPLB  000A9sRBYdVh66csG2qEdj                     []  \n",
       "1  show_15iWCbU7QoO23EndPEO6aN  000HP8n3hNIfglT2wSI2cA                     []  \n",
       "2  show_6vZRgUFTYwbAA79UNCADr4  001UfOruzkA3Bn1SPjcdfa                     []  \n",
       "3  show_5BvKEjaMSuvUsGROGi2S7s  001i89SvIQgDuuyC53hfBm                     []  \n",
       "4  show_7w3h3umpH74veEJcbE6xf4  0025RWNwe2lnp6HcnfzwzG                     []  "
      ]
     },
     "execution_count": 76,
     "metadata": {},
     "output_type": "execute_result"
    }
   ],
   "source": [
    "spotify_meta.head()"
   ]
  },
  {
   "cell_type": "code",
   "execution_count": 77,
   "metadata": {},
   "outputs": [
    {
     "name": "stdout",
     "output_type": "stream",
     "text": [
      "The number of Episode Descriptions that are null:  205\n",
      "\n",
      "The number of Show Names that are null:  0\n",
      "\n",
      "The number of Show Descriptions that are null:  2\n"
     ]
    }
   ],
   "source": [
    "print(\"The number of Episode Descriptions that are null: \", spotify_meta['episode_description'].isnull().values.sum())\n",
    "print()\n",
    "print(\"The number of Show Names that are null: \", spotify_meta['show_name'].isnull().values.sum())\n",
    "print()\n",
    "print(\"The number of Show Descriptions that are null: \",spotify_meta['show_description'].isnull().values.sum())"
   ]
  },
  {
   "cell_type": "code",
   "execution_count": 78,
   "metadata": {},
   "outputs": [],
   "source": [
    "episode_desc_null_indices= spotify_meta[spotify_meta['episode_description'].isnull()].index.tolist()"
   ]
  },
  {
   "cell_type": "code",
   "execution_count": 79,
   "metadata": {},
   "outputs": [
    {
     "name": "stdout",
     "output_type": "stream",
     "text": [
      "It's Game of the Year meets King of the Hill as four of Earth's best friends – Griffin McElroy, Justin McElroy, Chris Plante, and Russ Frushtick – rank and review their favorite video games. Because shouldn't the best of game be chosen by the best of friends?\n",
      "\n",
      "nan\n"
     ]
    }
   ],
   "source": [
    "print(spotify_meta.iloc[3655]['show_description'])\n",
    "print()\n",
    "print(spotify_meta.iloc[3655]['episode_description'])"
   ]
  },
  {
   "cell_type": "code",
   "execution_count": null,
   "metadata": {},
   "outputs": [],
   "source": []
  }
 ],
 "metadata": {
  "kernelspec": {
   "display_name": "Python 3",
   "language": "python",
   "name": "python3"
  },
  "language_info": {
   "codemirror_mode": {
    "name": "ipython",
    "version": 3
   },
   "file_extension": ".py",
   "mimetype": "text/x-python",
   "name": "python",
   "nbconvert_exporter": "python",
   "pygments_lexer": "ipython3",
   "version": "3.7.6"
  }
 },
 "nbformat": 4,
 "nbformat_minor": 4
}
